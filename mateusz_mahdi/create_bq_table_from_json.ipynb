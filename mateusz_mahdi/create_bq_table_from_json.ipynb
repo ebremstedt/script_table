{
 "cells": [
  {
   "cell_type": "code",
   "execution_count": null,
   "metadata": {},
   "outputs": [],
   "source": [
    "from google.cloud import bigquery\n",
    "from typing import Any, Dict, List\n",
    "\n",
    " \n",
    "json_data = {\n",
    "    \"weather\": \"humid\",\n",
    "    \"name\": \"Alberta\",\n",
    "    \"visibility\": 10000,\n",
    "    \"wind\": 5.5,\n",
    "    \"clouds\": \"Overcast\",\n",
    "    \"datetime\": 1485789600,\n",
    "    \"date\": \"2024-08-28\",\n",
    "    \"id\": 2643743,\n",
    "    \"city name\": \"London\",\n",
    "    \"cod\": 200,\n",
    "    \"isRaining\": True\n",
    "}\n",
    "\n",
    "def get_bq_type(value:any):\n",
    "    \"\"\"infer the bigquery type from a python value\"\"\"\n",
    "    if isinstance(value, int):\n",
    "        return \"INT64\"\n",
    "    elif isinstance(value, float):\n",
    "        return \"FLOAT64\"\n",
    "    elif isinstance(value, bool):\n",
    "        return \"BOOL\"\n",
    "    elif isinstance(value, str):\n",
    "        try:\n",
    "            from datetime import datetime\n",
    "            datetime.strptime(value, \"%Y-%m-%d\")\n",
    "            return \"TIMESTAMP\"\n",
    "        except ValueError:\n",
    "            pass\n",
    "        return \"STRING\"\n",
    "    elif isinstance(value, int) and 0 <= value <= datetime.now().timestamp():\n",
    "        try:\n",
    "            datetime.fromtimestamp(value)\n",
    "            return True\n",
    "        except ValueError:\n",
    "            return False                \n",
    "    else:\n",
    "        return \"STRING\"\n",
    " \n",
    "def convert_json_to_bq_schema(json_data: Dict[str, Any]) -> List[bigquery.SchemaField]:\n",
    "    \"\"\"Converts JSON data to a list of SchemaField objects for BigQuery.\"\"\"\n",
    "    bq_schema = []\n",
    "    for key, value in json_data.items():\n",
    "        bq_schema.append(bigquery.SchemaField(name=key, field_type=get_bq_type(value), mode=\"NULLABLE\"))\n",
    "    return bq_schema\n",
    " \n",
    "### Test here: ###\n",
    "schema = convert_json_to_bq_schema(json_data)\n",
    "print(schema)"
   ]
  }
 ],
 "metadata": {
  "kernelspec": {
   "display_name": "base",
   "language": "python",
   "name": "python3"
  },
  "language_info": {
   "codemirror_mode": {
    "name": "ipython",
    "version": 3
   },
   "file_extension": ".py",
   "mimetype": "text/x-python",
   "name": "python",
   "nbconvert_exporter": "python",
   "pygments_lexer": "ipython3",
   "version": "3.11.9"
  }
 },
 "nbformat": 4,
 "nbformat_minor": 2
}
